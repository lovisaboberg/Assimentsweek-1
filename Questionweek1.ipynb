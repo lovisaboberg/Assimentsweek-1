{
 "cells": [
  {
   "cell_type": "code",
   "execution_count": 1,
   "metadata": {},
   "outputs": [
    {
     "name": "stdout",
     "output_type": "stream",
     "text": [
      "8\n",
      "0\n",
      "16\n",
      "1\n",
      "0\n"
     ]
    }
   ],
   "source": [
    "#question 1\n",
    "#import math\n",
    "\n",
    "import math\n",
    "# Collect input from the user\n",
    "a = input(\"Input a number:\")\n",
    "b = input(\"Input a number:\")\n",
    "#Convert data types\n",
    "a = int(a)\n",
    "b = int(b)\n",
    "sum_numbers = a + b\n",
    "diff_numbers = a - b\n",
    "prod_numbers = a * b\n",
    "quotient_numbers = a // b\n",
    "rem_numbers = a % b\n",
    "print(sum_numbers)\n",
    "print(diff_numbers)\n",
    "print(prod_numbers)\n",
    "print(quotient_numbers)\n",
    "print(rem_numbers)"
   ]
  },
  {
   "cell_type": "code",
   "execution_count": 2,
   "metadata": {},
   "outputs": [
    {
     "name": "stdout",
     "output_type": "stream",
     "text": [
      "Fuel efficiency in Canadian units is 33.60142857142857 L/100\n"
     ]
    }
   ],
   "source": [
    "#Question 2\n",
    "\n",
    "user_input_mgp = float(input(\"Enter fuel efficiency expressed in miles-per-gallon\"))\n",
    "\n",
    "conversion = 235.21/user_input_mgp\n",
    "print(\"Fuel efficiency in Canadian units is\", conversion, \"L/100\")"
   ]
  },
  {
   "cell_type": "code",
   "execution_count": 4,
   "metadata": {},
   "outputs": [
    {
     "name": "stdout",
     "output_type": "stream",
     "text": [
      "5.0 5.0 5.0 5.0\n",
      "0.0\n"
     ]
    }
   ],
   "source": [
    "#Question 3\n",
    "\n",
    "import math\n",
    "#lat and long examples->\n",
    "#lat_sidney, long_sydney = -33.8688, 151.2093\n",
    "#lat_stockholm, long_stockholm = 59.3293, 18.0686\n",
    "current_country = input(\"enter your current country: \")\n",
    "lat1 = float(input(\"provide your current latitude: \"))\n",
    "long1 = float(input(\"provide your current longitude: \"))\n",
    "destination_country = input(\"enter your destination country: \")\n",
    "lat2 = float(input(\"provide your destination latitude: \"))\n",
    "long2 = float(input(\"provide your destination longitude: \"))\n",
    "distance = 6371.01 * math.acos(math.sin(lat1)*math.sin(lat2)+math.cos(lat1)*math.cos(lat2)*math.cos(long1-long2))\n",
    "print(lat1, long1, lat2, long2)\n",
    "print(distance)\n",
    "lat1 = math.radians(lat1)\n",
    "long1 = math.radians(long2)\n",
    "lat2 = math.radians(lat2)\n",
    "long2 = math.radians(long2)"
   ]
  },
  {
   "cell_type": "code",
   "execution_count": 5,
   "metadata": {},
   "outputs": [
    {
     "name": "stdout",
     "output_type": "stream",
     "text": [
      "The distance in inches is 96 inches.\n",
      "The distance in yards is 2.67 yards.\n",
      "The distance in miles is 0.00 miles.\n"
     ]
    }
   ],
   "source": [
    "#Question 4\n",
    "\n",
    "feet = float(input(\"Input distance in feet: \"))\n",
    "inches = feet * 12\n",
    "yards = feet / 3.0\n",
    "miles = feet / 5280.0\n",
    "print(\"The distance in inches is %i inches.\" % inches)\n",
    "print(\"The distance in yards is %.2f yards.\" % yards)\n",
    "print(\"The distance in miles is %.2f miles.\" % miles)"
   ]
  },
  {
   "cell_type": "code",
   "execution_count": 6,
   "metadata": {},
   "outputs": [
    {
     "name": "stdout",
     "output_type": "stream",
     "text": [
      "7.584800246218576\n"
     ]
    }
   ],
   "source": [
    "#Question 5\n",
    "\n",
    "import math\n",
    "number_of_sides = int(input(\"Enter number of sides:\"))\n",
    "len_of_sides = float(input(\"Enter the length of the sides:\"))\n",
    "\n",
    "area = number_of_sides * len_of_sides ** 2 / 4 * math.tan(math.pi/number_of_sides)\n",
    "\n",
    "print(area)"
   ]
  },
  {
   "cell_type": "code",
   "execution_count": 7,
   "metadata": {},
   "outputs": [
    {
     "name": "stdout",
     "output_type": "stream",
     "text": [
      "time.asctime(t): Wed Nov 30 14:02:00 2022 \n"
     ]
    }
   ],
   "source": [
    "#Question 6\n",
    "\n",
    "import time\n",
    "\n",
    "t = time.localtime()\n",
    "print(\"time.asctime(t): %s \" % time.asctime(t))"
   ]
  },
  {
   "cell_type": "code",
   "execution_count": 8,
   "metadata": {},
   "outputs": [
    {
     "name": "stdout",
     "output_type": "stream",
     "text": [
      "The wind chill index is 6\n"
     ]
    }
   ],
   "source": [
    "#Question 7\n",
    "\n",
    "# w = wind\n",
    "# t = temprature\n",
    "import math\n",
    "w = float(input(\"Input wind speed in kilometers/hour: \"))\n",
    "t = float(input(\"Input air temperature in degrees Celsius: \"))\n",
    "wci = 13.12 + 0.6215*t -  11.37*math.pow(w, 0.16) + 0.3965*t*math.pow(w, 0.16)\n",
    "print(\"The wind chill index is\", int(round(wci, 0)))"
   ]
  }
 ],
 "metadata": {
  "kernelspec": {
   "display_name": "Python 3.10.6 64-bit",
   "language": "python",
   "name": "python3"
  },
  "language_info": {
   "codemirror_mode": {
    "name": "ipython",
    "version": 3
   },
   "file_extension": ".py",
   "mimetype": "text/x-python",
   "name": "python",
   "nbconvert_exporter": "python",
   "pygments_lexer": "ipython3",
   "version": "3.10.6"
  },
  "orig_nbformat": 4,
  "vscode": {
   "interpreter": {
    "hash": "aee8b7b246df8f9039afb4144a1f6fd8d2ca17a180786b69acc140d282b71a49"
   }
  }
 },
 "nbformat": 4,
 "nbformat_minor": 2
}
